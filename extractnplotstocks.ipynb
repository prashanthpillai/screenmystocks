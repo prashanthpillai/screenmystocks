{
 "cells": [
  {
   "cell_type": "code",
   "execution_count": 10,
   "metadata": {},
   "outputs": [],
   "source": [
    "from nsepy import get_history\n",
    "from datetime import date\n",
    "import matplotlib.pyplot as plt\n",
    "import pandas as pd\n",
    "from tqdm import tqdm\n",
    "import seaborn as sns\n",
    "from collections import Counter"
   ]
  },
  {
   "cell_type": "code",
   "execution_count": 4,
   "metadata": {},
   "outputs": [
    {
     "name": "stdout",
     "output_type": "stream",
     "text": [
      "From: (1, 7, 2021) To: (28, 1, 2022)\n"
     ]
    }
   ],
   "source": [
    "# Select Timeframe\n",
    "today = date.today()\n",
    "day = today.day-2\n",
    "month = today.month\n",
    "year = today.year\n",
    "\n",
    "prev_day = 1\n",
    "if month < 5:\n",
    "    prev_month = month+6\n",
    "    prev_year = year-1\n",
    "else:\n",
    "    prev_month = month-6\n",
    "    prev_year = year\n",
    "   \n",
    "print('From:',(prev_day, prev_month, prev_year), 'To:', (day, month, year))"
   ]
  },
  {
   "cell_type": "code",
   "execution_count": 12,
   "metadata": {},
   "outputs": [
    {
     "name": "stdout",
     "output_type": "stream",
     "text": [
      "136 4329\n"
     ]
    }
   ],
   "source": [
    "all_stocks_df = pd.read_csv('New_Screen_1_26_2022.csv')\n",
    "subsectors = all_stocks_df['Sub-Sector'].unique()\n",
    "print(len(subsectors), all_stocks_df.shape[0])"
   ]
  },
  {
   "cell_type": "code",
   "execution_count": 25,
   "metadata": {},
   "outputs": [
    {
     "data": {
      "text/html": [
       "<div>\n",
       "<style scoped>\n",
       "    .dataframe tbody tr th:only-of-type {\n",
       "        vertical-align: middle;\n",
       "    }\n",
       "\n",
       "    .dataframe tbody tr th {\n",
       "        vertical-align: top;\n",
       "    }\n",
       "\n",
       "    .dataframe thead th {\n",
       "        text-align: right;\n",
       "    }\n",
       "</style>\n",
       "<table border=\"1\" class=\"dataframe\">\n",
       "  <thead>\n",
       "    <tr style=\"text-align: right;\">\n",
       "      <th></th>\n",
       "      <th>Name</th>\n",
       "      <th>Ticker</th>\n",
       "      <th>Sub-Sector</th>\n",
       "      <th>Market Cap</th>\n",
       "      <th>Close Price</th>\n",
       "      <th>PE Ratio</th>\n",
       "      <th>Return on Equity</th>\n",
       "      <th>Net Profit Margin</th>\n",
       "      <th>5Y Avg Net Profit Margin</th>\n",
       "      <th>5Y Avg Return on Equity</th>\n",
       "      <th>...</th>\n",
       "      <th>6M Return vs Nifty</th>\n",
       "      <th>Debt to Equity</th>\n",
       "      <th>PB Ratio</th>\n",
       "      <th>Fundamental Score</th>\n",
       "      <th>Value Momentum Rank</th>\n",
       "      <th>Price to Intrinsic Value Rank</th>\n",
       "      <th>Earnings Quality Rank</th>\n",
       "      <th>Price Momentum Rank</th>\n",
       "      <th>Beta</th>\n",
       "      <th>Alpha</th>\n",
       "    </tr>\n",
       "  </thead>\n",
       "  <tbody>\n",
       "    <tr>\n",
       "      <th>0</th>\n",
       "      <td>Reliance Industries Ltd</td>\n",
       "      <td>RELIANCE</td>\n",
       "      <td>Oil &amp; Gas - Refining &amp; Marketing</td>\n",
       "      <td>1.605541e+06</td>\n",
       "      <td>2373.25</td>\n",
       "      <td>32.680782</td>\n",
       "      <td>7.793277</td>\n",
       "      <td>9.725370</td>\n",
       "      <td>8.300577</td>\n",
       "      <td>10.627669</td>\n",
       "      <td>...</td>\n",
       "      <td>3.738434</td>\n",
       "      <td>33.855037</td>\n",
       "      <td>2.008353</td>\n",
       "      <td>5.593750</td>\n",
       "      <td>77.0</td>\n",
       "      <td>62.0</td>\n",
       "      <td>3.0</td>\n",
       "      <td>97.0</td>\n",
       "      <td>1.161611</td>\n",
       "      <td>11.546318</td>\n",
       "    </tr>\n",
       "    <tr>\n",
       "      <th>1</th>\n",
       "      <td>Tata Consultancy Services Ltd</td>\n",
       "      <td>TCS</td>\n",
       "      <td>IT Services &amp; Consulting</td>\n",
       "      <td>1.394505e+06</td>\n",
       "      <td>3769.90</td>\n",
       "      <td>43.000474</td>\n",
       "      <td>37.740680</td>\n",
       "      <td>19.383065</td>\n",
       "      <td>20.433589</td>\n",
       "      <td>34.788399</td>\n",
       "      <td>...</td>\n",
       "      <td>8.370634</td>\n",
       "      <td>8.948661</td>\n",
       "      <td>16.008924</td>\n",
       "      <td>6.761957</td>\n",
       "      <td>51.0</td>\n",
       "      <td>35.0</td>\n",
       "      <td>67.0</td>\n",
       "      <td>79.0</td>\n",
       "      <td>0.635544</td>\n",
       "      <td>14.403774</td>\n",
       "    </tr>\n",
       "    <tr>\n",
       "      <th>2</th>\n",
       "      <td>HDFC Bank Ltd</td>\n",
       "      <td>HDFCBANK</td>\n",
       "      <td>Private Banks</td>\n",
       "      <td>8.240033e+05</td>\n",
       "      <td>1488.05</td>\n",
       "      <td>25.885029</td>\n",
       "      <td>16.435200</td>\n",
       "      <td>20.420916</td>\n",
       "      <td>18.588574</td>\n",
       "      <td>17.295561</td>\n",
       "      <td>...</td>\n",
       "      <td>-5.827718</td>\n",
       "      <td>NaN</td>\n",
       "      <td>3.915566</td>\n",
       "      <td>8.128571</td>\n",
       "      <td>63.0</td>\n",
       "      <td>52.0</td>\n",
       "      <td>52.0</td>\n",
       "      <td>47.0</td>\n",
       "      <td>1.096553</td>\n",
       "      <td>-4.207789</td>\n",
       "    </tr>\n",
       "    <tr>\n",
       "      <th>3</th>\n",
       "      <td>Infosys Ltd</td>\n",
       "      <td>INFY</td>\n",
       "      <td>IT Services &amp; Consulting</td>\n",
       "      <td>7.213736e+05</td>\n",
       "      <td>1722.15</td>\n",
       "      <td>37.278361</td>\n",
       "      <td>27.135305</td>\n",
       "      <td>18.847214</td>\n",
       "      <td>19.271149</td>\n",
       "      <td>24.421902</td>\n",
       "      <td>...</td>\n",
       "      <td>-0.686880</td>\n",
       "      <td>6.935219</td>\n",
       "      <td>9.395087</td>\n",
       "      <td>5.870652</td>\n",
       "      <td>71.0</td>\n",
       "      <td>44.0</td>\n",
       "      <td>96.0</td>\n",
       "      <td>97.0</td>\n",
       "      <td>0.635091</td>\n",
       "      <td>19.306729</td>\n",
       "    </tr>\n",
       "    <tr>\n",
       "      <th>4</th>\n",
       "      <td>ICICI Bank Ltd</td>\n",
       "      <td>ICICIBANK</td>\n",
       "      <td>Private Banks</td>\n",
       "      <td>5.544546e+05</td>\n",
       "      <td>801.65</td>\n",
       "      <td>30.159118</td>\n",
       "      <td>12.382897</td>\n",
       "      <td>11.395012</td>\n",
       "      <td>7.297748</td>\n",
       "      <td>8.053466</td>\n",
       "      <td>...</td>\n",
       "      <td>9.505806</td>\n",
       "      <td>NaN</td>\n",
       "      <td>3.316595</td>\n",
       "      <td>4.697143</td>\n",
       "      <td>75.0</td>\n",
       "      <td>63.0</td>\n",
       "      <td>88.0</td>\n",
       "      <td>92.0</td>\n",
       "      <td>1.333348</td>\n",
       "      <td>6.496518</td>\n",
       "    </tr>\n",
       "  </tbody>\n",
       "</table>\n",
       "<p>5 rows × 25 columns</p>\n",
       "</div>"
      ],
      "text/plain": [
       "                            Name     Ticker                        Sub-Sector  \\\n",
       "0        Reliance Industries Ltd   RELIANCE  Oil & Gas - Refining & Marketing   \n",
       "1  Tata Consultancy Services Ltd        TCS          IT Services & Consulting   \n",
       "2                  HDFC Bank Ltd   HDFCBANK                     Private Banks   \n",
       "3                    Infosys Ltd       INFY          IT Services & Consulting   \n",
       "4                 ICICI Bank Ltd  ICICIBANK                     Private Banks   \n",
       "\n",
       "     Market Cap  Close Price   PE Ratio  Return on Equity  Net Profit Margin  \\\n",
       "0  1.605541e+06      2373.25  32.680782          7.793277           9.725370   \n",
       "1  1.394505e+06      3769.90  43.000474         37.740680          19.383065   \n",
       "2  8.240033e+05      1488.05  25.885029         16.435200          20.420916   \n",
       "3  7.213736e+05      1722.15  37.278361         27.135305          18.847214   \n",
       "4  5.544546e+05       801.65  30.159118         12.382897          11.395012   \n",
       "\n",
       "   5Y Avg Net Profit Margin  5Y Avg Return on Equity  ...  6M Return vs Nifty  \\\n",
       "0                  8.300577                10.627669  ...            3.738434   \n",
       "1                 20.433589                34.788399  ...            8.370634   \n",
       "2                 18.588574                17.295561  ...           -5.827718   \n",
       "3                 19.271149                24.421902  ...           -0.686880   \n",
       "4                  7.297748                 8.053466  ...            9.505806   \n",
       "\n",
       "   Debt to Equity   PB Ratio  Fundamental Score  Value Momentum Rank  \\\n",
       "0       33.855037   2.008353           5.593750                 77.0   \n",
       "1        8.948661  16.008924           6.761957                 51.0   \n",
       "2             NaN   3.915566           8.128571                 63.0   \n",
       "3        6.935219   9.395087           5.870652                 71.0   \n",
       "4             NaN   3.316595           4.697143                 75.0   \n",
       "\n",
       "   Price to Intrinsic Value Rank  Earnings Quality Rank  Price Momentum Rank  \\\n",
       "0                           62.0                    3.0                 97.0   \n",
       "1                           35.0                   67.0                 79.0   \n",
       "2                           52.0                   52.0                 47.0   \n",
       "3                           44.0                   96.0                 97.0   \n",
       "4                           63.0                   88.0                 92.0   \n",
       "\n",
       "       Beta      Alpha  \n",
       "0  1.161611  11.546318  \n",
       "1  0.635544  14.403774  \n",
       "2  1.096553  -4.207789  \n",
       "3  0.635091  19.306729  \n",
       "4  1.333348   6.496518  \n",
       "\n",
       "[5 rows x 25 columns]"
      ]
     },
     "execution_count": 25,
     "metadata": {},
     "output_type": "execute_result"
    }
   ],
   "source": [
    "all_stocks_df.head()"
   ]
  },
  {
   "cell_type": "code",
   "execution_count": 26,
   "metadata": {},
   "outputs": [
    {
     "data": {
      "text/plain": [
       "Index(['Name', 'Ticker', 'Sub-Sector', 'Market Cap', 'Close Price', 'PE Ratio',\n",
       "       'Return on Equity', 'Net Profit Margin', '5Y Avg Net Profit Margin',\n",
       "       '5Y Avg Return on Equity', 'ROCE', '1D Return', '1M Return vs Nifty',\n",
       "       '1W Return', '6M Return', '6M Return vs Nifty', 'Debt to Equity',\n",
       "       'PB Ratio', 'Fundamental Score', 'Value Momentum Rank',\n",
       "       'Price to Intrinsic Value Rank', 'Earnings Quality Rank',\n",
       "       'Price Momentum Rank', 'Beta', 'Alpha'],\n",
       "      dtype='object')"
      ]
     },
     "execution_count": 26,
     "metadata": {},
     "output_type": "execute_result"
    }
   ],
   "source": [
    "all_stocks_df.columns"
   ]
  },
  {
   "cell_type": "code",
   "execution_count": 34,
   "metadata": {},
   "outputs": [
    {
     "data": {
      "text/plain": [
       "(-8.194587031800831e+17, 2.00274143187646e+18)"
      ]
     },
     "execution_count": 34,
     "metadata": {},
     "output_type": "execute_result"
    }
   ],
   "source": [
    "all_stocks_df['PE Ratio'].min(), all_stocks_df['PE Ratio'].max()"
   ]
  },
  {
   "cell_type": "code",
   "execution_count": 35,
   "metadata": {},
   "outputs": [
    {
     "data": {
      "text/plain": [
       "(-2.1061998125539603, 4.486009041308531)"
      ]
     },
     "execution_count": 35,
     "metadata": {},
     "output_type": "execute_result"
    }
   ],
   "source": [
    "all_stocks_df['Beta'].min(), all_stocks_df['Beta'].max()"
   ]
  },
  {
   "cell_type": "code",
   "execution_count": 37,
   "metadata": {},
   "outputs": [
    {
     "data": {
      "text/plain": [
       "[<matplotlib.lines.Line2D at 0x273b7dfae10>]"
      ]
     },
     "execution_count": 37,
     "metadata": {},
     "output_type": "execute_result"
    },
    {
     "data": {
      "image/png": "[encoded data removed]",
      "text/plain": [
       "<Figure size 432x288 with 1 Axes>"
      ]
     },
     "metadata": {
      "needs_background": "light"
     },
     "output_type": "display_data"
    }
   ],
   "source": [
    "truncate_df = all_stocks_df#.loc[all_stocks_df['PE Ratio']<0.5]\n",
    "plt.plot(truncate_df['Alpha'], truncate_df['Beta'],'o')"
   ]
  },
  {
   "cell_type": "code",
   "execution_count": 22,
   "metadata": {
    "scrolled": false
   },
   "outputs": [
    {
     "data": {
      "text/plain": [
       "Counter({'Oil & Gas - Refining & Marketing': 7,\n",
       "         'IT Services & Consulting': 65,\n",
       "         'Private Banks': 22,\n",
       "         'FMCG - Household Products': 3,\n",
       "         'Home Financing': 11,\n",
       "         'Telecom Services': 9,\n",
       "         'Public Banks': 13,\n",
       "         'Consumer Finance': 27,\n",
       "         'Paints': 5,\n",
       "         'Renewable Energy': 14,\n",
       "         'Construction & Engineering': 91,\n",
       "         'Retail - Department Stores': 7,\n",
       "         'FMCG - Tobacco': 4,\n",
       "         'Four Wheelers': 6,\n",
       "         'Insurance': 9,\n",
       "         'Power Infrastructure': 7,\n",
       "         'Precious Metals, Jewellery & Watches': 24,\n",
       "         'Oil & Gas - Exploration & Production': 5,\n",
       "         'Cement': 37,\n",
       "         'Gas Distribution': 7,\n",
       "         'Pharmaceuticals': 91,\n",
       "         'Commodities Trading': 13,\n",
       "         'FMCG - Foods': 19,\n",
       "         'Power Transmission & Distribution': 8,\n",
       "         'Iron & Steel': 73,\n",
       "         'Ports': 2,\n",
       "         'Mining - Diversified': 5,\n",
       "         'Diversified Chemicals': 15,\n",
       "         'Power Generation': 8,\n",
       "         'Metals - Diversified': 13,\n",
       "         'Metals - Aluminium': 7,\n",
       "         'Labs & Life Sciences Services': 5,\n",
       "         'Two Wheelers': 4,\n",
       "         'Mining - Coal': 1,\n",
       "         'FMCG - Personal Products': 10,\n",
       "         'Real Estate': 70,\n",
       "         'Business Support Services': 14,\n",
       "         'Conglomerates': 9,\n",
       "         'Payment Infrastructure': 2,\n",
       "         'Airlines': 4,\n",
       "         'Electrical Components & Equipments': 29,\n",
       "         'Trucks & Buses': 3,\n",
       "         'Textiles': 107,\n",
       "         'Online Services': 12,\n",
       "         'Telecom Infrastructure': 3,\n",
       "         'Tea & Coffee': 14,\n",
       "         'Hospitals & Diagnostic Centres': 18,\n",
       "         'Alcoholic Beverages': 13,\n",
       "         'Fertilizers & Agro Chemicals': 35,\n",
       "         'Asset Management': 24,\n",
       "         'Diversified Financials': 29,\n",
       "         'Auto Parts': 76,\n",
       "         'Heavy Electrical Equipments': 20,\n",
       "         'Electronic Equipments': 13,\n",
       "         'Software Services': 33,\n",
       "         'Aerospace & Defense Equipments': 4,\n",
       "         'Apparel & Accessories': 39,\n",
       "         'Restaurants & Cafes': 9,\n",
       "         'Tires & Rubber': 14,\n",
       "         'Biotechnology': 4,\n",
       "         'Building Products - Pipes': 25,\n",
       "         'Home Electronics & Appliances': 19,\n",
       "         'Mining - Iron Ore': 1,\n",
       "         'Retail - Apparel': 6,\n",
       "         'Logistics': 34,\n",
       "         'Soft Drinks': 1,\n",
       "         'Specialty Chemicals': 62,\n",
       "         'Cycles': 2,\n",
       "         'Oil & Gas - Storage & Transportation': 6,\n",
       "         'Footwear': 7,\n",
       "         'Specialized Finance': 11,\n",
       "         'Commodity Chemicals': 48,\n",
       "         'Stationery': 5,\n",
       "         'TV Channels & Broadcasters': 10,\n",
       "         'Plastic Products': 16,\n",
       "         'Hotels, Resorts & Cruise Lines': 22,\n",
       "         'Industrial Machinery': 66,\n",
       "         'Packaged Foods & Meats': 27,\n",
       "         'Investment Banking & Brokerage': 37,\n",
       "         'Tractors': 3,\n",
       "         'Power Trading & Consultancy': 3,\n",
       "         nan: 2202,\n",
       "         'Stock Exchanges & Ratings': 6,\n",
       "         'Building Products - Ceramics': 11,\n",
       "         'Equity': 100,\n",
       "         'Advertising': 7,\n",
       "         'Home Furnishing': 10,\n",
       "         'Batteries': 7,\n",
       "         'Wood Products': 9,\n",
       "         'Technology Hardware': 9,\n",
       "         'Mining - Copper': 1,\n",
       "         'Employment Services': 5,\n",
       "         'Telecom Equipments': 9,\n",
       "         'Outsourced services': 12,\n",
       "         'Renewable Energy Equipment & Services': 7,\n",
       "         'Cables': 9,\n",
       "         'Agro Products': 12,\n",
       "         'Movies & TV Serials': 16,\n",
       "         'Theatres': 2,\n",
       "         'Health Care Equipment & Supplies': 5,\n",
       "         'Sugar': 26,\n",
       "         'Debt': 15,\n",
       "         'Housewares': 5,\n",
       "         'Theme Parks & Gaming': 4,\n",
       "         'Rail': 5,\n",
       "         'Metals - Coke': 2,\n",
       "         'Roads': 8,\n",
       "         'Packaging': 26,\n",
       "         'Tour & Travel Services': 5,\n",
       "         'Building Products - Granite': 6,\n",
       "         'Shipbuilding': 5,\n",
       "         'Education Services': 16,\n",
       "         'Gold': 11,\n",
       "         'Heavy Machinery': 6,\n",
       "         'Building Products - Laminates': 3,\n",
       "         'Mining - Manganese': 1,\n",
       "         'Cable & D2H': 6,\n",
       "         'Communication & Networking': 7,\n",
       "         'Paper Products': 23,\n",
       "         'Seeds': 4,\n",
       "         'Oil & Gas - Equipment & Services': 9,\n",
       "         'Metals - Lead': 1,\n",
       "         'Publishing': 13,\n",
       "         'Agricultural & Farm Machinery': 5,\n",
       "         'Animation': 2,\n",
       "         'Water Management': 3,\n",
       "         'Wellness Services': 4,\n",
       "         'Dredging': 1,\n",
       "         'Building Products - Prefab Structures': 2,\n",
       "         'Radio': 3,\n",
       "         'Three Wheelers': 1,\n",
       "         'Airports': 1,\n",
       "         'Retail - Online': 1,\n",
       "         'Metals - Copper': 2,\n",
       "         'Retail - Speciality': 1,\n",
       "         'Building Products - Glass': 1})"
      ]
     },
     "execution_count": 22,
     "metadata": {},
     "output_type": "execute_result"
    }
   ],
   "source": [
    "Counter(all_stocks_df['Sub-Sector'].values)"
   ]
  },
  {
   "cell_type": "code",
   "execution_count": 23,
   "metadata": {},
   "outputs": [
    {
     "name": "stdout",
     "output_type": "stream",
     "text": [
      "['Havells India Ltd' 'Polycab India Ltd' 'Graphite India Ltd'\n",
      " 'V Guard Industries Ltd' 'HEG Ltd' 'Olectra Greentech Ltd'\n",
      " 'Apar Industries Ltd' 'Precision Wires India Ltd'\n",
      " 'HPL Electric & Power Ltd' 'Marine Electricals (India) Ltd'\n",
      " 'Swelect Energy Systems Ltd' 'Hind Rectifiers Ltd'\n",
      " 'Salzer Electronics Ltd' 'Modison Metals Ltd' 'De Nora India Ltd'\n",
      " 'VETO Switch Gears And Cables Ltd' 'Servotech Power Systems Ltd'\n",
      " 'MIC Electronics Ltd' 'Bhagyanagar India Ltd' 'Sarthak Metals Ltd'\n",
      " 'Ice Make Refrigeration Ltd' 'V-Marc India Ltd'\n",
      " 'Spectrum Electrical Industries Ltd' 'Uravi T & Wedge Lamps Ltd'\n",
      " 'Diamond Power Infrastructure Ltd' 'HEC Infra Projects Ltd'\n",
      " 'S & S Power Switchgear Ltd' 'Shri Ram Switchgears Ltd'\n",
      " 'Lakshmi Electrical Control Systems Ltd']\n"
     ]
    }
   ],
   "source": [
    "subsector = 'Electrical Components & Equipments'\n",
    "companies = all_stocks_df.loc[all_stocks_df['Sub-Sector']==subsector, 'Ticker'].values\n",
    "names = all_stocks_df.loc[all_stocks_df['Sub-Sector']==subsector, 'Name'].values\n",
    "print(names)"
   ]
  },
  {
   "cell_type": "code",
   "execution_count": 24,
   "metadata": {},
   "outputs": [
    {
     "name": "stderr",
     "output_type": "stream",
     "text": [
      " 10%|████████▎                                                                          | 1/10 [00:00<00:04,  1.83it/s]"
     ]
    },
    {
     "name": "stdout",
     "output_type": "stream",
     "text": [
      "(267, 15)\n"
     ]
    },
    {
     "name": "stderr",
     "output_type": "stream",
     "text": [
      "\r",
      " 20%|████████████████▌                                                                  | 2/10 [00:01<00:05,  1.36it/s]"
     ]
    },
    {
     "name": "stdout",
     "output_type": "stream",
     "text": [
      "(267, 15)\n"
     ]
    },
    {
     "name": "stderr",
     "output_type": "stream",
     "text": [
      "\r",
      " 30%|████████████████████████▉                                                          | 3/10 [00:02<00:04,  1.40it/s]"
     ]
    },
    {
     "name": "stdout",
     "output_type": "stream",
     "text": [
      "(267, 15)\n"
     ]
    },
    {
     "name": "stderr",
     "output_type": "stream",
     "text": [
      "\r",
      " 40%|█████████████████████████████████▏                                                 | 4/10 [00:02<00:04,  1.48it/s]"
     ]
    },
    {
     "name": "stdout",
     "output_type": "stream",
     "text": [
      "(267, 15)\n"
     ]
    },
    {
     "name": "stderr",
     "output_type": "stream",
     "text": [
      "\r",
      " 50%|█████████████████████████████████████████▌                                         | 5/10 [00:03<00:03,  1.59it/s]"
     ]
    },
    {
     "name": "stdout",
     "output_type": "stream",
     "text": [
      "(267, 15)\n"
     ]
    },
    {
     "name": "stderr",
     "output_type": "stream",
     "text": [
      "\r",
      " 60%|█████████████████████████████████████████████████▊                                 | 6/10 [00:03<00:02,  1.70it/s]"
     ]
    },
    {
     "name": "stdout",
     "output_type": "stream",
     "text": [
      "(145, 15)\n"
     ]
    },
    {
     "name": "stderr",
     "output_type": "stream",
     "text": [
      "\r",
      " 70%|██████████████████████████████████████████████████████████                         | 7/10 [00:04<00:01,  1.65it/s]"
     ]
    },
    {
     "name": "stdout",
     "output_type": "stream",
     "text": [
      "(267, 15)\n"
     ]
    },
    {
     "name": "stderr",
     "output_type": "stream",
     "text": [
      "\r",
      " 80%|██████████████████████████████████████████████████████████████████▍                | 8/10 [00:05<00:01,  1.69it/s]"
     ]
    },
    {
     "name": "stdout",
     "output_type": "stream",
     "text": [
      "(267, 15)\n"
     ]
    },
    {
     "name": "stderr",
     "output_type": "stream",
     "text": [
      "\r",
      " 90%|██████████████████████████████████████████████████████████████████████████▋        | 9/10 [00:05<00:00,  1.58it/s]"
     ]
    },
    {
     "name": "stdout",
     "output_type": "stream",
     "text": [
      "(248, 15)\n"
     ]
    },
    {
     "name": "stderr",
     "output_type": "stream",
     "text": [
      "100%|██████████████████████████████████████████████████████████████████████████████████| 10/10 [00:06<00:00,  1.51it/s]"
     ]
    },
    {
     "name": "stdout",
     "output_type": "stream",
     "text": [
      "(249, 15)\n"
     ]
    },
    {
     "name": "stderr",
     "output_type": "stream",
     "text": [
      "\n"
     ]
    },
    {
     "data": {
      "text/plain": [
       "<matplotlib.legend.Legend at 0x273b79da9e8>"
      ]
     },
     "execution_count": 24,
     "metadata": {},
     "output_type": "execute_result"
    },
    {
     "data": {
      "image/png": "[encoded data removed]",
      "text/plain": [
       "<Figure size 720x360 with 1 Axes>"
      ]
     },
     "metadata": {
      "needs_background": "light"
     },
     "output_type": "display_data"
    }
   ],
   "source": [
    "plt.figure(figsize=(10, 5))\n",
    "for icomp in tqdm(companies[:10]):\n",
    "    try:\n",
    "        #data = get_history(symbol=icomp, start=date(prev_year, prev_month, prev_day), end=date(year, month, day))\n",
    "        data = get_history(symbol=icomp, start=date(2021, 1, 1), end=date(year, month, day))\n",
    "        data['perc_change'] = 100*(data['Close'] - data['Close'][0])/data['Close'][0]\n",
    "        plt.plot(data['perc_change'], '.-', label=icomp)\n",
    "        #print(icomp, min(data['Close']), max(data['Close']), )\n",
    "        print(data.shape)\n",
    "    except:\n",
    "        pass\n",
    "plt.legend()"
   ]
  },
  {
   "cell_type": "code",
   "execution_count": null,
   "metadata": {},
   "outputs": [],
   "source": []
  }
 ],
 "metadata": {
  "kernelspec": {
   "display_name": "Python 3",
   "language": "python",
   "name": "python3"
  },
  "language_info": {
   "codemirror_mode": {
    "name": "ipython",
    "version": 3
   },
   "file_extension": ".py",
   "mimetype": "text/x-python",
   "name": "python",
   "nbconvert_exporter": "python",
   "pygments_lexer": "ipython3",
   "version": "3.7.3"
  }
 },
 "nbformat": 4,
 "nbformat_minor": 2
}
